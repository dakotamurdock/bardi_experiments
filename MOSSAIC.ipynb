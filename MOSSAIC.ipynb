{
  "nbformat": 4,
  "nbformat_minor": 0,
  "metadata": {
    "colab": {
      "provenance": [],
      "toc_visible": true,
      "authorship_tag": "ABX9TyORZupmEpMopN+qkp1e3c9U",
      "include_colab_link": true
    },
    "kernelspec": {
      "name": "python3",
      "display_name": "Python 3"
    },
    "language_info": {
      "name": "python"
    }
  },
  "cells": [
    {
      "cell_type": "markdown",
      "metadata": {
        "id": "view-in-github",
        "colab_type": "text"
      },
      "source": [
        "<a href=\"https://colab.research.google.com/github/dakotamurdock/bardi_experiments/blob/main/MOSSAIC.ipynb\" target=\"_parent\"><img src=\"https://colab.research.google.com/assets/colab-badge.svg\" alt=\"Open In Colab\"/></a>"
      ]
    },
    {
      "cell_type": "markdown",
      "source": [
        "# BARDI-less Research Path Forward"
      ],
      "metadata": {
        "id": "egMZwxaSkVDu"
      }
    },
    {
      "cell_type": "markdown",
      "source": [
        "## Setup"
      ],
      "metadata": {
        "id": "OVOnrZqMjGRN"
      }
    },
    {
      "cell_type": "code",
      "execution_count": null,
      "metadata": {
        "id": "Fa5rLnS-itfz"
      },
      "outputs": [],
      "source": [
        "import re\n",
        "\n",
        "import datasets\n",
        "import pandas as pd\n",
        "from bardi.nlp_engineering.regex_library.pathology_report import PathologyReportRegexSet\n",
        "from bardi.nlp_engineering.utils import tokenizers_lib\n",
        "from transformers import AutoTokenizer"
      ]
    },
    {
      "cell_type": "markdown",
      "source": [
        "## Create a Sample Dataset\n",
        "\n",
        "In practice, replace this with a database query."
      ],
      "metadata": {
        "id": "XJ1r_izBjJB9"
      }
    },
    {
      "cell_type": "code",
      "source": [
        "df = pd.DataFrame([\n",
        "    {\n",
        "        \"id\": 1,\n",
        "        \"text\": \"Patient shows mild symptoms of fatigue and cough.\",\n",
        "        \"diagnosis\": \"negative\"\n",
        "    },\n",
        "    {\n",
        "        \"id\": 2,\n",
        "        \"text\": \"Patient reports high fever and loss of taste.\",\n",
        "        \"diagnosis\": \"positive\"\n",
        "    },\n",
        "    {\n",
        "        \"id\": 3,\n",
        "        \"text\": \"Patient exhibits occasional headaches and dizziness.\",\n",
        "        \"diagnosis\": \"positive\"\n",
        "    },\n",
        "    {\n",
        "        \"id\": 4,\n",
        "        \"text\": \"Patient complains of shortness of breath and chest pain.\",\n",
        "        \"diagnosis\": \"positive\"\n",
        "    },\n",
        "    {\n",
        "        \"id\": 5,\n",
        "        \"text\": \"Patient experiences intermittent muscle aches.\",\n",
        "        \"diagnosis\": \"positive\"\n",
        "    },\n",
        "    {\n",
        "        \"id\": 6,\n",
        "        \"text\": \"Patient has persistent dry cough and sore throat.\",\n",
        "        \"diagnosis\": \"positive\"\n",
        "    },\n",
        "    {\n",
        "        \"id\": 7,\n",
        "        \"text\": \"Patient reports no significant symptoms, feels generally well.\",\n",
        "        \"diagnosis\": \"negative\"\n",
        "    },\n",
        "    {\n",
        "        \"id\": 8,\n",
        "        \"text\": \"Patient shows signs of respiratory distress and fatigue.\",\n",
        "        \"diagnosis\": \"positive\"\n",
        "    },\n",
        "    {\n",
        "        \"id\": 9,\n",
        "        \"text\": \"Patient experiences mild nausea and occasional vomiting.\",\n",
        "        \"diagnosis\": \"positive\"\n",
        "    },\n",
        "    {\n",
        "        \"id\": 10,\n",
        "        \"text\": \"Patient has severe headache and high fever.\",\n",
        "        \"diagnosis\": \"positive\"\n",
        "    },\n",
        "    {\n",
        "        \"id\": 11,\n",
        "        \"text\": \"Patient exhibits mild cold symptoms and fatigue.\",\n",
        "        \"diagnosis\": \"positive\"\n",
        "    },\n",
        "    {\n",
        "        \"id\": 12,\n",
        "        \"text\": \"Patient reports persistent cough and difficulty breathing.\",\n",
        "        \"diagnosis\": \"positive\"\n",
        "    },\n",
        "    {\n",
        "        \"id\": 13,\n",
        "        \"text\": \"Patient shows no symptoms, regular check-up.\",\n",
        "        \"diagnosis\": \"negative\"\n",
        "    },\n",
        "    {\n",
        "        \"id\": 14,\n",
        "        \"text\": \"Patient complains of body aches and high fever.\",\n",
        "        \"diagnosis\": \"positive\"\n",
        "    },\n",
        "    {\n",
        "        \"id\": 15,\n",
        "        \"text\": \"Patient has mild symptoms of runny nose and sneezing.\",\n",
        "        \"diagnosis\": \"negative\"\n",
        "    },\n",
        "    {\n",
        "        \"id\": 16,\n",
        "        \"text\": \"Patient reports loss of smell and taste, severe cough.\",\n",
        "        \"diagnosis\": \"positive\"\n",
        "    },\n",
        "    {\n",
        "        \"id\": 17,\n",
        "        \"text\": \"Patient experiences mild fatigue and occasional headache.\",\n",
        "        \"diagnosis\": \"negative\"\n",
        "    },\n",
        "    {\n",
        "        \"id\": 18,\n",
        "        \"text\": \"Patient shows high fever and shortness of breath.\",\n",
        "        \"diagnosis\": \"positive\"\n",
        "    },\n",
        "    {\n",
        "        \"id\": 19,\n",
        "        \"text\": \"Patient has mild cold symptoms, feels generally well.\",\n",
        "        \"diagnosis\": \"positive\"\n",
        "    },\n",
        "    {\n",
        "        \"id\": 20,\n",
        "        \"text\": \"Patient exhibits severe symptoms, including chest pain.\",\n",
        "        \"diagnosis\": \"positive\"\n",
        "    }\n",
        "])\n",
        "\n",
        "dataset = datasets.Dataset.from_pandas(df)"
      ],
      "metadata": {
        "id": "UASQhOOcizDc"
      },
      "execution_count": null,
      "outputs": []
    },
    {
      "cell_type": "markdown",
      "source": [
        "## Normalizer\n",
        "\n",
        "Use the regular expression set from BARDI.\n",
        "\n",
        "Replace the normalizer with <20 lines of code."
      ],
      "metadata": {
        "id": "jYlm577gjQCU"
      }
    },
    {
      "cell_type": "code",
      "source": [
        "# grabbing a pre-made regex set for normalizing pathology reports\n",
        "path_report_regex_set = PathologyReportRegexSet().get_regex_set()\n",
        "\n",
        "\n",
        "# apply regex normalizations\n",
        "def normalize(row):\n",
        "    for regex in path_report_regex_set:\n",
        "        row[\"text\"] = re.sub(\n",
        "            regex['regex_str'],\n",
        "            regex['sub_str'],\n",
        "            row[\"text\"].lower()\n",
        "        )\n",
        "\n",
        "    return row\n",
        "\n",
        "\n",
        "dataset = dataset.map(lambda row: normalize(row))"
      ],
      "metadata": {
        "id": "Exvp83Kni7ik"
      },
      "execution_count": null,
      "outputs": []
    },
    {
      "cell_type": "markdown",
      "source": [
        "## Tokenizer Encoder\n",
        "\n",
        "Utilize tokenizer utilities from BARDI.\n",
        "\n",
        "Replace the tokenizer encoder with <20 lines of code."
      ],
      "metadata": {
        "id": "CAQ5hD10jgLQ"
      }
    },
    {
      "cell_type": "code",
      "source": [
        "# apply tokenizer\n",
        "tokenizer = AutoTokenizer.from_pretrained('BioMistral/BioMistral-7B')\n",
        "tokenizer = tokenizers_lib.set_tokenizer_params(tokenizer)  # correct common issues\n",
        "\n",
        "\n",
        "def tokenize(text):\n",
        "    return tokenizer(\n",
        "        text,\n",
        "        padding=True,\n",
        "        truncation=True,\n",
        "        max_length=tokenizer.model_max_length,\n",
        "        return_tensors='np',\n",
        "    )\n",
        "\n",
        "\n",
        "dataset = dataset.map(\n",
        "    lambda row: tokenize(row['text']),\n",
        "    batched=True\n",
        ")"
      ],
      "metadata": {
        "id": "Ak9QxbZ2i2xx"
      },
      "execution_count": null,
      "outputs": []
    },
    {
      "cell_type": "markdown",
      "source": [
        "## Label Processor\n",
        "\n",
        "Replace the label processor with a couple lines of code."
      ],
      "metadata": {
        "id": "_lLMz4adjs-X"
      }
    },
    {
      "cell_type": "code",
      "source": [
        "# label processor\n",
        "dataset = dataset.class_encode_column('diagnosis')\n",
        "id_to_label = {\n",
        "    idx: name for idx, name in enumerate(dataset.features['diagnosis'].names)\n",
        "}"
      ],
      "metadata": {
        "id": "QaeBX1vTjAxG"
      },
      "execution_count": null,
      "outputs": []
    },
    {
      "cell_type": "markdown",
      "source": [
        "## Splitter\n",
        "\n",
        "Replace the splitter with <20 lines of code."
      ],
      "metadata": {
        "id": "HK7xVq64jzG6"
      }
    },
    {
      "cell_type": "code",
      "source": [
        "# split into train/test\n",
        "ds_split_train_test = dataset.train_test_split(\n",
        "    test_size=0.3,\n",
        "    stratify_by_column='diagnosis'\n",
        ")\n",
        "train_ds, test_ds = ds_split_train_test[\"train\"], ds_split_train_test[\"test\"]\n",
        "\n",
        "# further split test into test/val\n",
        "ds_split_test_val = ds_split_train_test[\"test\"].train_test_split(test_size=0.5)\n",
        "test_ds, val_ds = ds_split_test_val[\"train\"], ds_split_test_val[\"test\"]\n",
        "\n",
        "split_dataset = datasets.DatasetDict({\n",
        "    'train': train_ds,\n",
        "    'test': test_ds,\n",
        "    'val': val_ds\n",
        "})"
      ],
      "metadata": {
        "id": "S7kl1tJ0jB1H"
      },
      "execution_count": null,
      "outputs": []
    },
    {
      "cell_type": "markdown",
      "source": [
        "## Output"
      ],
      "metadata": {
        "id": "2O9G0BTEj59u"
      }
    },
    {
      "cell_type": "code",
      "source": [
        "print(f'dataset structure: {split_dataset}')\n",
        "print(f'example record: {split_dataset[\"test\"][0]}')\n",
        "print(f'id_to_label: {id_to_label}')"
      ],
      "metadata": {
        "id": "OXdgd7AFjEhB"
      },
      "execution_count": null,
      "outputs": []
    }
  ]
}